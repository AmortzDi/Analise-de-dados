{
 "cells": [
  {
   "cell_type": "markdown",
   "metadata": {},
   "source": [
    "Mozart Dias\n",
    "\n",
    "DESAFIO 3\n",
    "\n",
    "1->Escolher 10 nomes\n",
    "\n",
    "2->Para cada um desses nomes salvar os dados em um arquivo csv com as seguintes colunas: nome, estado, decada, frequencia \n"
   ]
  },
  {
   "cell_type": "code",
   "execution_count": 1,
   "metadata": {},
   "outputs": [],
   "source": [
    "import requests\n",
    "import csv"
   ]
  },
  {
   "cell_type": "code",
   "execution_count": 2,
   "metadata": {},
   "outputs": [],
   "source": [
    "# Consultar a API para obter os estados com seus IDs\n",
    "url_estados = 'https://servicodados.ibge.gov.br/api/v1/localidades/distritos?orderBy=nome'\n",
    "response_estados = requests.get(url_estados)"
   ]
  },
  {
   "cell_type": "code",
   "execution_count": 3,
   "metadata": {},
   "outputs": [],
   "source": [
    "if response_estados.status_code == 200:\n",
    "    localidade = response_estados.json()\n",
    "\n",
    "    # Dicionário para armazenar estados com seus IDs\n",
    "    lista_estado = {}\n",
    "    for estado in localidade:\n",
    "        lista_estado[estado['municipio']['microrregiao']['mesorregiao']['UF']['nome']] = \\\n",
    "            estado['municipio']['microrregiao']['mesorregiao']['UF']['id']\n",
    "else:\n",
    "    print(\"Erro ao consultar a API de estados.\")\n",
    "    exit()\n"
   ]
  },
  {
   "cell_type": "code",
   "execution_count": 4,
   "metadata": {},
   "outputs": [],
   "source": [
    "# Lista de nomes (os 10 escolhidos)\n",
    "lista_nomes = [\"mozart\", \"paulo\", \"maria\", \"gustavo\", \"paula\", \n",
    "               \"jaqueline\", \"ricardo\", \"vivane\", \"daniele\", \"clara\"]"
   ]
  },
  {
   "cell_type": "code",
   "execution_count": null,
   "metadata": {},
   "outputs": [],
   "source": [
    "# Nome do arquivo CSV\n",
    "nome_arquivo = \"dados_nomes_por_municipio.csv\"\n",
    "\n",
    "\n",
    "# Criar e abrir o arquivo CSV para escrita\n",
    "with open(nome_arquivo, mode='w', newline='', encoding='utf-8') as arquivo_csv:\n",
    "    escritor = csv.writer(arquivo_csv)\n",
    "    \n",
    "    # Escrever o cabeçalho no CSV\n",
    "    escritor.writerow([\"nome\", \"estado\", \"municipio\", \"decada\", \"frequencia\", \"frequencia_total_geral\"])\n",
    "    \n",
    "    # Iterar pelos nomes para calcular o total geral\n",
    "    for nome in lista_nomes:\n",
    "        frequencia_total_geral = 0  # Somatório geral para o nome\n",
    "        \n",
    "        for estado, municipios in estados_municipios.items():\n",
    "            for municipio, municipio_id in municipios.items():\n",
    "                # Construir a URL\n",
    "                url = f'https://servicodados.ibge.gov.br/api/v2/censos/nomes/{nome}?localidade={municipio_id}'\n",
    "                \n",
    "                # Fazer a requisição\n",
    "                response = requests.get(url)\n",
    "                \n",
    "                if response.status_code == 200:\n",
    "                    # Processar os dados retornados\n",
    "                    dados = response.json()\n",
    "                    \n",
    "                    for item in dados:\n",
    "                        if 'res' in item:\n",
    "                            for decada in item['res']:\n",
    "                                frequencia_total_geral += decada['frequencia']\n",
    "                                # Escrever os dados no arquivo CSV\n",
    "                                escritor.writerow([nome, estado, municipio, decada['periodo'], decada['frequencia'], \"\"])\n",
    "                else:\n",
    "                    print(f\"Erro ao consultar nome: {nome} no município: {municipio} (Status: {response.status_code})\")\n",
    "        \n",
    "        # Adicionar a linha com o total geral para o nome\n",
    "        escritor.writerow([nome, \"Todos os estados\", \"Todos os municípios\", \"Todas as décadas\", \"\", frequencia_total_geral])\n"
   ]
  },
  {
   "cell_type": "code",
   "execution_count": 13,
   "metadata": {},
   "outputs": [
    {
     "name": "stdout",
     "output_type": "stream",
     "text": [
      "Dados salvos no arquivo 'dados_nomes_por_estado.csv'.\n"
     ]
    }
   ],
   "source": [
    "print(f\"Dados salvos no arquivo '{nome_arquivo}'.\")\n"
   ]
  }
 ],
 "metadata": {
  "kernelspec": {
   "display_name": "Python 3",
   "language": "python",
   "name": "python3"
  },
  "language_info": {
   "codemirror_mode": {
    "name": "ipython",
    "version": 3
   },
   "file_extension": ".py",
   "mimetype": "text/x-python",
   "name": "python",
   "nbconvert_exporter": "python",
   "pygments_lexer": "ipython3",
   "version": "3.13.0"
  }
 },
 "nbformat": 4,
 "nbformat_minor": 2
}
